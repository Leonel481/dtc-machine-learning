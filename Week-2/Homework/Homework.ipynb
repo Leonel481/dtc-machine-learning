{
 "cells": [
  {
   "cell_type": "code",
   "execution_count": 2,
   "id": "eb4d78c3",
   "metadata": {},
   "outputs": [],
   "source": [
    "import pandas as pd\n",
    "import numpy as np\n",
    "import matplotlib.pyplot as plt"
   ]
  },
  {
   "cell_type": "code",
   "execution_count": 4,
   "id": "61db8e05",
   "metadata": {},
   "outputs": [
    {
     "data": {
      "text/plain": [
       "(9704, 11)"
      ]
     },
     "execution_count": 4,
     "metadata": {},
     "output_type": "execute_result"
    }
   ],
   "source": [
    "df= pd.read_csv('Data/car_fuel_efficiency.csv')\n",
    "df.shape"
   ]
  },
  {
   "cell_type": "code",
   "execution_count": 5,
   "id": "65077eb4",
   "metadata": {},
   "outputs": [
    {
     "name": "stdout",
     "output_type": "stream",
     "text": [
      "<class 'pandas.core.frame.DataFrame'>\n",
      "RangeIndex: 9704 entries, 0 to 9703\n",
      "Data columns (total 5 columns):\n",
      " #   Column               Non-Null Count  Dtype  \n",
      "---  ------               --------------  -----  \n",
      " 0   engine_displacement  9704 non-null   int64  \n",
      " 1   horsepower           8996 non-null   float64\n",
      " 2   vehicle_weight       9704 non-null   float64\n",
      " 3   model_year           9704 non-null   int64  \n",
      " 4   fuel_efficiency_mpg  9704 non-null   float64\n",
      "dtypes: float64(3), int64(2)\n",
      "memory usage: 379.2 KB\n"
     ]
    }
   ],
   "source": [
    "df =df[['engine_displacement', 'horsepower', 'vehicle_weight', 'model_year', 'fuel_efficiency_mpg']]\n",
    "df.info()"
   ]
  },
  {
   "cell_type": "markdown",
   "id": "1d0b3a33",
   "metadata": {},
   "source": [
    "### Question 1. There's one column with missing values. What is it?"
   ]
  },
  {
   "cell_type": "code",
   "execution_count": 6,
   "id": "cfac394f",
   "metadata": {},
   "outputs": [
    {
     "data": {
      "text/plain": [
       "engine_displacement      0\n",
       "horsepower             708\n",
       "vehicle_weight           0\n",
       "model_year               0\n",
       "fuel_efficiency_mpg      0\n",
       "dtype: int64"
      ]
     },
     "execution_count": 6,
     "metadata": {},
     "output_type": "execute_result"
    }
   ],
   "source": [
    "df.isnull().sum()"
   ]
  },
  {
   "cell_type": "markdown",
   "id": "bdb1b2e1",
   "metadata": {},
   "source": [
    "### Question 2. What's the median (50% percentile) for variable 'horsepower'?"
   ]
  },
  {
   "cell_type": "code",
   "execution_count": 7,
   "id": "f0e6be3b",
   "metadata": {},
   "outputs": [
    {
     "data": {
      "text/plain": [
       "count    8996.000000\n",
       "mean      149.657292\n",
       "std        29.879555\n",
       "min        37.000000\n",
       "25%       130.000000\n",
       "50%       149.000000\n",
       "75%       170.000000\n",
       "max       271.000000\n",
       "Name: horsepower, dtype: float64"
      ]
     },
     "execution_count": 7,
     "metadata": {},
     "output_type": "execute_result"
    }
   ],
   "source": [
    "df['horsepower'].describe()"
   ]
  },
  {
   "cell_type": "markdown",
   "id": "0ad2d1a6",
   "metadata": {},
   "source": [
    "### Prepare and split the dataset"
   ]
  },
  {
   "cell_type": "code",
   "execution_count": 36,
   "id": "8f853ba8",
   "metadata": {},
   "outputs": [],
   "source": [
    "# Shuffle the dataset (the filtered one you created above), use seed 42.\n",
    "# Split your data in train/val/test sets, with 60%/20%/20% distribution.\n",
    "\n",
    "from sklearn.model_selection import train_test_split\n",
    "\n",
    "def prepare_data(df: pd.DataFrame, seed: int = 42):\n",
    "\n",
    "    df_s = df.sample(frac=1, random_state=seed).reset_index(drop=True)\n",
    "\n",
    "    train_size = 0.6\n",
    "    val_size = 0.2\n",
    "    test_size = 0.2\n",
    "\n",
    "    X = df_s.drop(columns=['fuel_efficiency_mpg'])\n",
    "    y = df_s['fuel_efficiency_mpg']\n",
    "\n",
    "    X_train, X_temp, y_train, y_temp = train_test_split(\n",
    "                                    X, y, test_size = (1 - train_size), \n",
    "                                    random_state=seed, \n",
    "                                    )\n",
    "\n",
    "    X_val, X_test, y_val, y_test = train_test_split(\n",
    "                                X_temp, y_temp, test_size = (test_size / (val_size + test_size)), \n",
    "                                random_state=seed, \n",
    "                                )\n",
    "    \n",
    "    return X_train, X_val, X_test, y_train, y_val, y_test"
   ]
  },
  {
   "cell_type": "markdown",
   "id": "394fa09e",
   "metadata": {},
   "source": [
    "### Question 3\n",
    "- We need to deal with missing values for the column from Q1.\n",
    "- We have two options: fill it with 0 or with the mean of this variable.\n",
    "- Try both options. For each, train a linear regression model without regularization using the code from the lessons.\n",
    "- For computing the mean, use the training only!\n",
    "- Use the validation dataset to evaluate the models and compare the RMSE of each option.\n",
    "- Round the RMSE scores to 2 decimal digits using round(score, 2)\n",
    "\n",
    "Which option gives better RMSE?"
   ]
  },
  {
   "cell_type": "code",
   "execution_count": null,
   "id": "b1393cfe",
   "metadata": {},
   "outputs": [],
   "source": [
    "from sklearn.linear_model import LinearRegression\n",
    "from sklearn.metrics import mean_squared_error\n",
    "\n",
    "\n",
    "# Fill with 0\n",
    "df_1 = df.copy()\n",
    "df_1 = df.fillna(0)\n",
    "\n",
    "# Fill with mean\n",
    "df_2 = df.copy()\n",
    "mean_hp = df_2['horsepower'].mean()\n",
    "df_2['horsepower'] = df_2['horsepower'].fillna(mean_hp)\n",
    "\n",
    "\n",
    "def train_model(X_train, y_train, X_val, y_val):  \n",
    "    model = LinearRegression()\n",
    "    model.fit(X_train, y_train)\n",
    "\n",
    "    y_val_pred = model.predict(X_val)\n",
    "    val_rmse = np.sqrt(mean_squared_error(y_val, y_val_pred))\n",
    "\n",
    "    return val_rmse"
   ]
  },
  {
   "cell_type": "code",
   "execution_count": 11,
   "id": "5fbafc85",
   "metadata": {},
   "outputs": [
    {
     "name": "stdout",
     "output_type": "stream",
     "text": [
      "RMSE Fill with 0: 0.51\n",
      "RMSE Fill with mean: 0.46\n"
     ]
    }
   ],
   "source": [
    "X_train, X_val, _, y_train, y_val, _ = prepare_data(df_1)\n",
    "\n",
    "rmse_1 = train_model(X_train, y_train, X_val, y_val)\n",
    "\n",
    "X_train, X_val, _, y_train, y_val, _ = prepare_data(df_2)\n",
    "\n",
    "rmse_2 = train_model(X_train, y_train, X_val, y_val)\n",
    "\n",
    "print(f'RMSE Fill with 0: {round(rmse_1, 2)}')\n",
    "print(f'RMSE Fill with mean: {round(rmse_2, 2)}')"
   ]
  },
  {
   "cell_type": "markdown",
   "id": "b9c16dc8",
   "metadata": {},
   "source": [
    "### Question 4\n",
    "- Now let's train a regularized linear regression.\n",
    "- For this question, fill the NAs with 0.\n",
    "- Try different values of r from this list: [0, 0.01, 0.1, 1, 5, 10, 100].\n",
    "- Use RMSE to evaluate the model on the validation dataset.\n",
    "- Round the RMSE scores to 2 decimal digits.\n",
    "- Which r gives the best RMSE?\n",
    "\n",
    "If multiple options give the same best RMSE, select the smallest r."
   ]
  },
  {
   "cell_type": "code",
   "execution_count": 18,
   "id": "e8d762c1",
   "metadata": {},
   "outputs": [
    {
     "data": {
      "text/plain": [
       "{0: np.float64(0.51),\n",
       " 0.01: np.float64(0.51),\n",
       " 0.1: np.float64(0.51),\n",
       " 1: np.float64(0.51),\n",
       " 5: np.float64(0.51),\n",
       " 10: np.float64(0.51),\n",
       " 100: np.float64(0.51)}"
      ]
     },
     "execution_count": 18,
     "metadata": {},
     "output_type": "execute_result"
    }
   ],
   "source": [
    "from sklearn.linear_model import Ridge, Lasso, ElasticNet\n",
    "\n",
    "r_values = [0, 0.01, 0.1, 1, 5, 10, 100]\n",
    "results = {}\n",
    "\n",
    "X_train, X_val, _, y_train, y_val, _ = prepare_data(df_1)\n",
    "\n",
    "for r in r_values:\n",
    "    model = Ridge(alpha=r)\n",
    "    model.fit(X_train, y_train)\n",
    "    y_pred = model.predict(X_val)\n",
    "    rmse = np.sqrt(mean_squared_error(y_val, y_pred))\n",
    "    results[r] = round(rmse, 2)\n",
    "\n",
    "results"
   ]
  },
  {
   "cell_type": "markdown",
   "id": "a55c6d6b",
   "metadata": {},
   "source": [
    "### Question 5\n",
    "- We used seed 42 for splitting the data. Let's find out how selecting the seed influences our score.\n",
    "- Try different seed values: [0, 1, 2, 3, 4, 5, 6, 7, 8, 9].\n",
    "- For each seed, do the train/validation/test split with 60%/20%/20% distribution.\n",
    "- Fill the missing values with 0 and train a model without regularization.\n",
    "- For each seed, evaluate the model on the validation dataset and collect the RMSE scores.\n",
    "- What's the standard deviation of all the scores? To compute the standard deviation, use np.std.\n",
    "- Round the result to 3 decimal digits (round(std, 3))\n",
    "\n",
    "What's the value of std?"
   ]
  },
  {
   "cell_type": "code",
   "execution_count": 37,
   "id": "a3fc1c8c",
   "metadata": {},
   "outputs": [
    {
     "data": {
      "text/plain": [
       "{'rmse-with-seed-0': np.float64(0.518029012129703),\n",
       " 'rmse-with-seed-1': np.float64(0.5090406519449436),\n",
       " 'rmse-with-seed-2': np.float64(0.5141627479366626),\n",
       " 'rmse-with-seed-3': np.float64(0.5152929065813446),\n",
       " 'rmse-with-seed-4': np.float64(0.5184898612166595),\n",
       " 'rmse-with-seed-5': np.float64(0.5236053324442335),\n",
       " 'rmse-with-seed-6': np.float64(0.5150251935468099),\n",
       " 'rmse-with-seed-7': np.float64(0.5249385057075809),\n",
       " 'rmse-with-seed-8': np.float64(0.5076028899022499),\n",
       " 'rmse-with-seed-9': np.float64(0.5292310655399466)}"
      ]
     },
     "execution_count": 37,
     "metadata": {},
     "output_type": "execute_result"
    }
   ],
   "source": [
    "seeds = [0, 1, 2, 3, 4, 5, 6, 7, 8, 9]\n",
    "metrics = []\n",
    "results = {}\n",
    "\n",
    "for seed in seeds:\n",
    "    X_train, X_val, _, y_train, y_val, _ = prepare_data(df_1, seed=seed)\n",
    "    rmse = train_model(X_train, y_train, X_val, y_val)\n",
    "    metrics.append(rmse)\n",
    "    results[f'rmse-with-seed-{seed}'] = rmse\n",
    "\n",
    "results\n"
   ]
  },
  {
   "cell_type": "code",
   "execution_count": 38,
   "id": "1f16bb32",
   "metadata": {},
   "outputs": [
    {
     "data": {
      "text/plain": [
       "np.float64(0.007)"
      ]
     },
     "execution_count": 38,
     "metadata": {},
     "output_type": "execute_result"
    }
   ],
   "source": [
    "round(np.std(metrics),3)"
   ]
  },
  {
   "cell_type": "markdown",
   "id": "c0030473",
   "metadata": {},
   "source": [
    "### Question 6\n",
    "- Split the dataset like previously, use seed 9.\n",
    "- Combine train and validation datasets.\n",
    "- Fill the missing values with 0 and train a model with r=0.001.\n",
    "\n",
    "What's the RMSE on the test dataset?"
   ]
  },
  {
   "cell_type": "code",
   "execution_count": 44,
   "id": "aeae1538",
   "metadata": {},
   "outputs": [
    {
     "data": {
      "text/plain": [
       "np.float64(0.53)"
      ]
     },
     "execution_count": 44,
     "metadata": {},
     "output_type": "execute_result"
    }
   ],
   "source": [
    "X_train, X_val, X_test, y_train, y_val, y_test = prepare_data(df_1, seed=9)\n",
    "\n",
    "X_full_train = pd.concat([X_train, X_val])\n",
    "y_full_train = pd.concat([y_train, y_val])\n",
    "\n",
    "model = Ridge(alpha=0.001)\n",
    "model.fit(X_full_train, y_full_train)\n",
    "y_pred = model.predict(X_test)\n",
    "rmse = np.sqrt(mean_squared_error(y_test, y_pred))\n",
    "round(rmse, 2)"
   ]
  }
 ],
 "metadata": {
  "kernelspec": {
   "display_name": "dtc-machine-learning-py3.12",
   "language": "python",
   "name": "python3"
  },
  "language_info": {
   "codemirror_mode": {
    "name": "ipython",
    "version": 3
   },
   "file_extension": ".py",
   "mimetype": "text/x-python",
   "name": "python",
   "nbconvert_exporter": "python",
   "pygments_lexer": "ipython3",
   "version": "3.12.3"
  }
 },
 "nbformat": 4,
 "nbformat_minor": 5
}
